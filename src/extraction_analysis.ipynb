{
 "cells": [
  {
   "cell_type": "code",
   "execution_count": 144,
   "metadata": {},
   "outputs": [
    {
     "name": "stdout",
     "output_type": "stream",
     "text": [
      "Collecting spacy==3.4.1\n",
      "  Downloading spacy-3.4.1-cp38-cp38-manylinux_2_17_x86_64.manylinux2014_x86_64.whl (6.5 MB)\n",
      "\u001b[K     |████████████████████████████████| 6.5 MB 566 kB/s eta 0:00:01     |█████████████████▍              | 3.5 MB 82 kB/s eta 0:00:37\n",
      "\u001b[?25hCollecting spacy-legacy==3.0.10\n",
      "  Downloading spacy_legacy-3.0.10-py2.py3-none-any.whl (21 kB)\n",
      "Requirement already satisfied: termcolor==1.1.0 in /usr/local/lib/python3.8/dist-packages (from -r https://raw.githubusercontent.com/mitramir55/PassivePy/main/PassivePyCode/PassivePySrc/requirements_lg.txt (line 3)) (1.1.0)\n",
      "Collecting regex==2022.9.13\n",
      "  Downloading regex-2022.9.13-cp38-cp38-manylinux_2_17_x86_64.manylinux2014_x86_64.whl (772 kB)\n",
      "\u001b[K     |████████████████████████████████| 772 kB 6.3 MB/s eta 0:00:01\n",
      "\u001b[?25hCollecting en_core_web_lg\n",
      "  Downloading https://github.com/explosion/spacy-models/releases/download/en_core_web_lg-3.4.0/en_core_web_lg-3.4.0.tar.gz (587.7 MB)\n",
      "\u001b[K     |████████████████████████████████| 587.7 MB 23 kB/s  eta 0:00:012    |█████▉                          | 107.1 MB 632 kB/s eta 0:12:41████                 | 275.5 MB 9.8 MB/s eta 0:00:32    |███████████████▊                | 287.8 MB 634 kB/s eta 0:07:53    |███████████████▊                | 289.8 MB 618 kB/s eta 0:08:02    |███████████████▉                | 291.4 MB 567 kB/s eta 0:08:43  | 312.9 MB 604 kB/s eta 0:07:35��███████▏              | 315.6 MB 589 kB/s eta 0:07:42��███████▎              | 316.8 MB 589 kB/s eta 0:07:40��█▎            | 353.6 MB 19.4 MB/s eta 0:00:13   | 355.7 MB 626 kB/s eta 0:06:11   | 357.1 MB 547 kB/s eta 0:07:02�███████▋            | 359.2 MB 547 kB/s eta 0:06:58�████████▏           | 369.5 MB 1.3 MB/s eta 0:02:42�████████▋           | 378.3 MB 4.5 MB/s eta 0:00:472 MB 4.5 MB/s eta 0:00:47�████████▊           | 380.1 MB 610 kB/s eta 0:05:40�████████▊           | 381.6 MB 610 kB/s eta 0:05:38�████████▉           | 382.6 MB 597 kB/s eta 0:05:44�████████▉           | 383.6 MB 597 kB/s eta 0:05:42�█████████           | 384.5 MB 581 kB/s eta 0:05:502 MB 581 kB/s eta 0:05:47�█████████           | 387.1 MB 602 kB/s eta 0:05:33��████████████████████▍          | 393.3 MB 602 kB/s eta 0:05:23��████████████████████▌          | 393.9 MB 602 kB/s eta 0:05:22��████████████████████▋          | 397.1 MB 1.7 MB/s eta 0:01:51��█████████████████████          | 403.4 MB 590 kB/s eta 0:05:13��█████████████████████          | 404.4 MB 590 kB/s eta 0:05:11��█████████████████████          | 404.8 MB 590 kB/s eta 0:05:10MB 615 kB/s eta 0:04:48MB 617 kB/s eta 0:04:46MB 617 kB/s eta 0:04:44        | 421.9 MB 22.5 MB/s eta 0:00:08     |███████████████████████▎        | 427.1 MB 411 kB/s eta 0:06:31█████▎        | 428.0 MB 411 kB/s eta 0:06:29  |███████████████████████▍        | 428.9 MB 616 kB/s eta 0:04:18█████▌        | 430.8 MB 616 kB/s eta 0:04:15█████▌        | 431.3 MB 596 kB/s eta 0:04:23█████▌        | 432.4 MB 596 kB/s eta 0:04:21█████▋        | 433.7 MB 539 kB/s eta 0:04:46█████▊        | 435.7 MB 539 kB/s eta 0:04:42█████▉        | 436.9 MB 575 kB/s eta 0:04:23█████▉        | 438.0 MB 575 kB/s eta 0:04:21    |█████████████████████████████▏  | 535.8 MB 1.6 MB/s eta 0:00:32    |█████████████████████████████▏  | 536.2 MB 1.6 MB/s eta 0:00:32    |█████████████████████████████▎  | 538.3 MB 1.6 MB/s eta 0:00:30    |█████████████████████████████▍  | 538.8 MB 1.6 MB/s eta 0:00:30ta 0:00:05ta 0:00:02    |██████████████████████████████  | 549.3 MB 616 kB/s eta 0:01:03██████████████████████████████  | 552.1 MB 557 kB/s eta 0:01:048 MB 1.4 MB/s eta 0:00:181 MB 1.4 MB/s eta 0:00:188 MB 1.4 MB/s eta 0:00:172 MB 1.4 MB/s eta 0:00:165 MB 9.0 MB/s eta 0:00:02███████▏| 571.5 MB 9.0 MB/s eta 0:00:02███████▎| 573.6 MB 604 kB/s eta 0:00:24███████▎| 574.6 MB 584 kB/s eta 0:00:23███████▍| 576.1 MB 584 kB/s eta 0:00:20███████▍| 577.1 MB 587 kB/s eta 0:00:19�██▊| 581.8 MB 90 kB/s eta 0:01:05�██▊| 582.6 MB 90 kB/s eta 0:00:57�██▉| 584.1 MB 90 kB/s eta 0:00:40████████| 586.8 MB 600 kB/s eta 0:00:02\n",
      "\u001b[?25hRequirement already satisfied: spacy-loggers<2.0.0,>=1.0.0 in /home/monty/.local/lib/python3.8/site-packages (from spacy==3.4.1->-r https://raw.githubusercontent.com/mitramir55/PassivePy/main/PassivePyCode/PassivePySrc/requirements_lg.txt (line 1)) (1.0.1)\n",
      "Requirement already satisfied: murmurhash<1.1.0,>=0.28.0 in /home/monty/.local/lib/python3.8/site-packages (from spacy==3.4.1->-r https://raw.githubusercontent.com/mitramir55/PassivePy/main/PassivePyCode/PassivePySrc/requirements_lg.txt (line 1)) (1.0.6)\n",
      "Requirement already satisfied: cymem<2.1.0,>=2.0.2 in /home/monty/.local/lib/python3.8/site-packages (from spacy==3.4.1->-r https://raw.githubusercontent.com/mitramir55/PassivePy/main/PassivePyCode/PassivePySrc/requirements_lg.txt (line 1)) (2.0.6)\n",
      "Requirement already satisfied: preshed<3.1.0,>=3.0.2 in /home/monty/.local/lib/python3.8/site-packages (from spacy==3.4.1->-r https://raw.githubusercontent.com/mitramir55/PassivePy/main/PassivePyCode/PassivePySrc/requirements_lg.txt (line 1)) (3.0.6)\n",
      "Requirement already satisfied: thinc<8.2.0,>=8.1.0 in /home/monty/.local/lib/python3.8/site-packages (from spacy==3.4.1->-r https://raw.githubusercontent.com/mitramir55/PassivePy/main/PassivePyCode/PassivePySrc/requirements_lg.txt (line 1)) (8.1.7)\n",
      "Requirement already satisfied: wasabi<1.1.0,>=0.9.1 in /home/monty/.local/lib/python3.8/site-packages (from spacy==3.4.1->-r https://raw.githubusercontent.com/mitramir55/PassivePy/main/PassivePyCode/PassivePySrc/requirements_lg.txt (line 1)) (0.10.1)\n",
      "Requirement already satisfied: srsly<3.0.0,>=2.4.3 in /home/monty/.local/lib/python3.8/site-packages (from spacy==3.4.1->-r https://raw.githubusercontent.com/mitramir55/PassivePy/main/PassivePyCode/PassivePySrc/requirements_lg.txt (line 1)) (2.4.5)\n",
      "Requirement already satisfied: catalogue<2.1.0,>=2.0.6 in /home/monty/.local/lib/python3.8/site-packages (from spacy==3.4.1->-r https://raw.githubusercontent.com/mitramir55/PassivePy/main/PassivePyCode/PassivePySrc/requirements_lg.txt (line 1)) (2.0.8)\n",
      "Requirement already satisfied: typer<0.5.0,>=0.3.0 in /home/monty/.local/lib/python3.8/site-packages (from spacy==3.4.1->-r https://raw.githubusercontent.com/mitramir55/PassivePy/main/PassivePyCode/PassivePySrc/requirements_lg.txt (line 1)) (0.4.0)\n",
      "Requirement already satisfied: pathy>=0.3.5 in /home/monty/.local/lib/python3.8/site-packages (from spacy==3.4.1->-r https://raw.githubusercontent.com/mitramir55/PassivePy/main/PassivePyCode/PassivePySrc/requirements_lg.txt (line 1)) (0.10.1)\n",
      "Requirement already satisfied: tqdm<5.0.0,>=4.38.0 in /home/monty/.local/lib/python3.8/site-packages (from spacy==3.4.1->-r https://raw.githubusercontent.com/mitramir55/PassivePy/main/PassivePyCode/PassivePySrc/requirements_lg.txt (line 1)) (4.62.3)\n",
      "Requirement already satisfied: numpy>=1.15.0 in /home/monty/.local/lib/python3.8/site-packages (from spacy==3.4.1->-r https://raw.githubusercontent.com/mitramir55/PassivePy/main/PassivePyCode/PassivePySrc/requirements_lg.txt (line 1)) (1.22.3)\n",
      "Requirement already satisfied: requests<3.0.0,>=2.13.0 in /home/monty/.local/lib/python3.8/site-packages (from spacy==3.4.1->-r https://raw.githubusercontent.com/mitramir55/PassivePy/main/PassivePyCode/PassivePySrc/requirements_lg.txt (line 1)) (2.28.1)\n",
      "Requirement already satisfied: pydantic!=1.8,!=1.8.1,<1.10.0,>=1.7.4 in /home/monty/.local/lib/python3.8/site-packages (from spacy==3.4.1->-r https://raw.githubusercontent.com/mitramir55/PassivePy/main/PassivePyCode/PassivePySrc/requirements_lg.txt (line 1)) (1.8.2)\n",
      "Requirement already satisfied: jinja2 in /home/monty/.local/lib/python3.8/site-packages (from spacy==3.4.1->-r https://raw.githubusercontent.com/mitramir55/PassivePy/main/PassivePyCode/PassivePySrc/requirements_lg.txt (line 1)) (3.0.3)\n",
      "Requirement already satisfied: setuptools in /home/monty/.local/lib/python3.8/site-packages (from spacy==3.4.1->-r https://raw.githubusercontent.com/mitramir55/PassivePy/main/PassivePyCode/PassivePySrc/requirements_lg.txt (line 1)) (67.6.0)\n",
      "Requirement already satisfied: packaging>=20.0 in /home/monty/.local/lib/python3.8/site-packages (from spacy==3.4.1->-r https://raw.githubusercontent.com/mitramir55/PassivePy/main/PassivePyCode/PassivePySrc/requirements_lg.txt (line 1)) (21.3)\n",
      "Requirement already satisfied: langcodes<4.0.0,>=3.2.0 in /home/monty/.local/lib/python3.8/site-packages (from spacy==3.4.1->-r https://raw.githubusercontent.com/mitramir55/PassivePy/main/PassivePyCode/PassivePySrc/requirements_lg.txt (line 1)) (3.3.0)\n",
      "Requirement already satisfied: blis<0.8.0,>=0.7.8 in /home/monty/.local/lib/python3.8/site-packages (from thinc<8.2.0,>=8.1.0->spacy==3.4.1->-r https://raw.githubusercontent.com/mitramir55/PassivePy/main/PassivePyCode/PassivePySrc/requirements_lg.txt (line 1)) (0.7.9)\n",
      "Requirement already satisfied: confection<1.0.0,>=0.0.1 in /home/monty/.local/lib/python3.8/site-packages (from thinc<8.2.0,>=8.1.0->spacy==3.4.1->-r https://raw.githubusercontent.com/mitramir55/PassivePy/main/PassivePyCode/PassivePySrc/requirements_lg.txt (line 1)) (0.0.4)\n",
      "Requirement already satisfied: click<9.0.0,>=7.1.1 in /home/monty/.local/lib/python3.8/site-packages (from typer<0.5.0,>=0.3.0->spacy==3.4.1->-r https://raw.githubusercontent.com/mitramir55/PassivePy/main/PassivePyCode/PassivePySrc/requirements_lg.txt (line 1)) (8.0.3)\n",
      "Requirement already satisfied: smart-open<7.0.0,>=5.2.1 in /home/monty/.local/lib/python3.8/site-packages (from pathy>=0.3.5->spacy==3.4.1->-r https://raw.githubusercontent.com/mitramir55/PassivePy/main/PassivePyCode/PassivePySrc/requirements_lg.txt (line 1)) (5.2.1)\n",
      "Requirement already satisfied: charset-normalizer<3,>=2 in /home/monty/.local/lib/python3.8/site-packages (from requests<3.0.0,>=2.13.0->spacy==3.4.1->-r https://raw.githubusercontent.com/mitramir55/PassivePy/main/PassivePyCode/PassivePySrc/requirements_lg.txt (line 1)) (2.1.1)\n",
      "Requirement already satisfied: idna<4,>=2.5 in /home/monty/.local/lib/python3.8/site-packages (from requests<3.0.0,>=2.13.0->spacy==3.4.1->-r https://raw.githubusercontent.com/mitramir55/PassivePy/main/PassivePyCode/PassivePySrc/requirements_lg.txt (line 1)) (3.4)\n",
      "Requirement already satisfied: urllib3<1.27,>=1.21.1 in /usr/local/lib/python3.8/dist-packages (from requests<3.0.0,>=2.13.0->spacy==3.4.1->-r https://raw.githubusercontent.com/mitramir55/PassivePy/main/PassivePyCode/PassivePySrc/requirements_lg.txt (line 1)) (1.26.12)\n",
      "Requirement already satisfied: certifi>=2017.4.17 in /home/monty/.local/lib/python3.8/site-packages (from requests<3.0.0,>=2.13.0->spacy==3.4.1->-r https://raw.githubusercontent.com/mitramir55/PassivePy/main/PassivePyCode/PassivePySrc/requirements_lg.txt (line 1)) (2022.9.24)\n",
      "Requirement already satisfied: typing-extensions>=3.7.4.3 in /home/monty/.local/lib/python3.8/site-packages (from pydantic!=1.8,!=1.8.1,<1.10.0,>=1.7.4->spacy==3.4.1->-r https://raw.githubusercontent.com/mitramir55/PassivePy/main/PassivePyCode/PassivePySrc/requirements_lg.txt (line 1)) (4.0.1)\n",
      "Requirement already satisfied: MarkupSafe>=2.0 in /home/monty/.local/lib/python3.8/site-packages (from jinja2->spacy==3.4.1->-r https://raw.githubusercontent.com/mitramir55/PassivePy/main/PassivePyCode/PassivePySrc/requirements_lg.txt (line 1)) (2.1.1)\n",
      "Requirement already satisfied: pyparsing!=3.0.5,>=2.0.2 in /home/monty/.local/lib/python3.8/site-packages (from packaging>=20.0->spacy==3.4.1->-r https://raw.githubusercontent.com/mitramir55/PassivePy/main/PassivePyCode/PassivePySrc/requirements_lg.txt (line 1)) (2.4.7)\n",
      "Building wheels for collected packages: en-core-web-lg\n",
      "  Building wheel for en-core-web-lg (setup.py) ... \u001b[?25ldone\n",
      "\u001b[?25h  Created wheel for en-core-web-lg: filename=en_core_web_lg-3.4.0-py3-none-any.whl size=587686926 sha256=ecdb0e2cc4df2f752e96cef26867f63d4c224dc82ee06378d19b8fa5f796eb99\n",
      "  Stored in directory: /home/monty/.cache/pip/wheels/18/18/fc/3802acca7ace33809dc084e40d1791df7c74b1d7c10b61f641\n",
      "Successfully built en-core-web-lg\n",
      "\u001b[31mERROR: en-core-web-sm 3.5.0 has requirement spacy<3.6.0,>=3.5.0, but you'll have spacy 3.4.1 which is incompatible.\u001b[0m\n",
      "\u001b[31mERROR: spacy-readability 1.4.1 has requirement spacy<3.0,>=2.0, but you'll have spacy 3.4.1 which is incompatible.\u001b[0m\n",
      "Installing collected packages: spacy-legacy, spacy, regex, en-core-web-lg\n",
      "  Attempting uninstall: spacy-legacy\n",
      "    Found existing installation: spacy-legacy 3.0.12\n",
      "    Uninstalling spacy-legacy-3.0.12:\n",
      "      Successfully uninstalled spacy-legacy-3.0.12\n",
      "  Attempting uninstall: spacy\n",
      "    Found existing installation: spacy 3.5.0\n",
      "    Uninstalling spacy-3.5.0:\n",
      "      Successfully uninstalled spacy-3.5.0\n",
      "  Attempting uninstall: regex\n",
      "    Found existing installation: regex 2023.3.23\n",
      "    Uninstalling regex-2023.3.23:\n",
      "      Successfully uninstalled regex-2023.3.23\n",
      "Successfully installed en-core-web-lg-3.4.0 regex-2022.9.13 spacy-3.4.1 spacy-legacy-3.0.10\n",
      "Collecting PassivePy==0.2.20\n",
      "  Downloading PassivePy-0.2.20-py3-none-any.whl (13 kB)\n",
      "Requirement already satisfied: termcolor in /usr/local/lib/python3.8/dist-packages (from PassivePy==0.2.20) (1.1.0)\n",
      "Requirement already satisfied: tqdm in /home/monty/.local/lib/python3.8/site-packages (from PassivePy==0.2.20) (4.62.3)\n",
      "Requirement already satisfied: spacy>=3.0.0 in /home/monty/.local/lib/python3.8/site-packages (from PassivePy==0.2.20) (3.4.1)\n",
      "Requirement already satisfied: spacy-legacy<3.1.0,>=3.0.9 in /home/monty/.local/lib/python3.8/site-packages (from spacy>=3.0.0->PassivePy==0.2.20) (3.0.10)\n",
      "Requirement already satisfied: spacy-loggers<2.0.0,>=1.0.0 in /home/monty/.local/lib/python3.8/site-packages (from spacy>=3.0.0->PassivePy==0.2.20) (1.0.1)\n",
      "Requirement already satisfied: murmurhash<1.1.0,>=0.28.0 in /home/monty/.local/lib/python3.8/site-packages (from spacy>=3.0.0->PassivePy==0.2.20) (1.0.6)\n",
      "Requirement already satisfied: cymem<2.1.0,>=2.0.2 in /home/monty/.local/lib/python3.8/site-packages (from spacy>=3.0.0->PassivePy==0.2.20) (2.0.6)\n",
      "Requirement already satisfied: preshed<3.1.0,>=3.0.2 in /home/monty/.local/lib/python3.8/site-packages (from spacy>=3.0.0->PassivePy==0.2.20) (3.0.6)\n",
      "Requirement already satisfied: thinc<8.2.0,>=8.1.0 in /home/monty/.local/lib/python3.8/site-packages (from spacy>=3.0.0->PassivePy==0.2.20) (8.1.7)\n",
      "Requirement already satisfied: wasabi<1.1.0,>=0.9.1 in /home/monty/.local/lib/python3.8/site-packages (from spacy>=3.0.0->PassivePy==0.2.20) (0.10.1)\n",
      "Requirement already satisfied: srsly<3.0.0,>=2.4.3 in /home/monty/.local/lib/python3.8/site-packages (from spacy>=3.0.0->PassivePy==0.2.20) (2.4.5)\n",
      "Requirement already satisfied: catalogue<2.1.0,>=2.0.6 in /home/monty/.local/lib/python3.8/site-packages (from spacy>=3.0.0->PassivePy==0.2.20) (2.0.8)\n",
      "Requirement already satisfied: typer<0.5.0,>=0.3.0 in /home/monty/.local/lib/python3.8/site-packages (from spacy>=3.0.0->PassivePy==0.2.20) (0.4.0)\n",
      "Requirement already satisfied: pathy>=0.3.5 in /home/monty/.local/lib/python3.8/site-packages (from spacy>=3.0.0->PassivePy==0.2.20) (0.10.1)\n",
      "Requirement already satisfied: numpy>=1.15.0 in /home/monty/.local/lib/python3.8/site-packages (from spacy>=3.0.0->PassivePy==0.2.20) (1.22.3)\n",
      "Requirement already satisfied: requests<3.0.0,>=2.13.0 in /home/monty/.local/lib/python3.8/site-packages (from spacy>=3.0.0->PassivePy==0.2.20) (2.28.1)\n",
      "Requirement already satisfied: pydantic!=1.8,!=1.8.1,<1.10.0,>=1.7.4 in /home/monty/.local/lib/python3.8/site-packages (from spacy>=3.0.0->PassivePy==0.2.20) (1.8.2)\n",
      "Requirement already satisfied: jinja2 in /home/monty/.local/lib/python3.8/site-packages (from spacy>=3.0.0->PassivePy==0.2.20) (3.0.3)\n",
      "Requirement already satisfied: setuptools in /home/monty/.local/lib/python3.8/site-packages (from spacy>=3.0.0->PassivePy==0.2.20) (67.6.0)\n",
      "Requirement already satisfied: packaging>=20.0 in /home/monty/.local/lib/python3.8/site-packages (from spacy>=3.0.0->PassivePy==0.2.20) (21.3)\n",
      "Requirement already satisfied: langcodes<4.0.0,>=3.2.0 in /home/monty/.local/lib/python3.8/site-packages (from spacy>=3.0.0->PassivePy==0.2.20) (3.3.0)\n",
      "Requirement already satisfied: blis<0.8.0,>=0.7.8 in /home/monty/.local/lib/python3.8/site-packages (from thinc<8.2.0,>=8.1.0->spacy>=3.0.0->PassivePy==0.2.20) (0.7.9)\n",
      "Requirement already satisfied: confection<1.0.0,>=0.0.1 in /home/monty/.local/lib/python3.8/site-packages (from thinc<8.2.0,>=8.1.0->spacy>=3.0.0->PassivePy==0.2.20) (0.0.4)\n",
      "Requirement already satisfied: click<9.0.0,>=7.1.1 in /home/monty/.local/lib/python3.8/site-packages (from typer<0.5.0,>=0.3.0->spacy>=3.0.0->PassivePy==0.2.20) (8.0.3)\n",
      "Requirement already satisfied: smart-open<7.0.0,>=5.2.1 in /home/monty/.local/lib/python3.8/site-packages (from pathy>=0.3.5->spacy>=3.0.0->PassivePy==0.2.20) (5.2.1)\n",
      "Requirement already satisfied: charset-normalizer<3,>=2 in /home/monty/.local/lib/python3.8/site-packages (from requests<3.0.0,>=2.13.0->spacy>=3.0.0->PassivePy==0.2.20) (2.1.1)\n",
      "Requirement already satisfied: idna<4,>=2.5 in /home/monty/.local/lib/python3.8/site-packages (from requests<3.0.0,>=2.13.0->spacy>=3.0.0->PassivePy==0.2.20) (3.4)\n",
      "Requirement already satisfied: urllib3<1.27,>=1.21.1 in /usr/local/lib/python3.8/dist-packages (from requests<3.0.0,>=2.13.0->spacy>=3.0.0->PassivePy==0.2.20) (1.26.12)\n",
      "Requirement already satisfied: certifi>=2017.4.17 in /home/monty/.local/lib/python3.8/site-packages (from requests<3.0.0,>=2.13.0->spacy>=3.0.0->PassivePy==0.2.20) (2022.9.24)\n",
      "Requirement already satisfied: typing-extensions>=3.7.4.3 in /home/monty/.local/lib/python3.8/site-packages (from pydantic!=1.8,!=1.8.1,<1.10.0,>=1.7.4->spacy>=3.0.0->PassivePy==0.2.20) (4.0.1)\n",
      "Requirement already satisfied: MarkupSafe>=2.0 in /home/monty/.local/lib/python3.8/site-packages (from jinja2->spacy>=3.0.0->PassivePy==0.2.20) (2.1.1)\n",
      "Requirement already satisfied: pyparsing!=3.0.5,>=2.0.2 in /home/monty/.local/lib/python3.8/site-packages (from packaging>=20.0->spacy>=3.0.0->PassivePy==0.2.20) (2.4.7)\n",
      "Installing collected packages: PassivePy\n",
      "  Attempting uninstall: PassivePy\n",
      "    Found existing installation: PassivePy 0.2.21\n",
      "    Uninstalling PassivePy-0.2.21:\n",
      "      Successfully uninstalled PassivePy-0.2.21\n",
      "Successfully installed PassivePy-0.2.20\n"
     ]
    }
   ],
   "source": [
    "!pip install -r https://raw.githubusercontent.com/mitramir55/PassivePy/main/PassivePyCode/PassivePySrc/requirements_lg.txt\n",
    "!pip install PassivePy==0.2.20"
   ]
  },
  {
   "cell_type": "code",
   "execution_count": 145,
   "metadata": {},
   "outputs": [
    {
     "name": "stderr",
     "output_type": "stream",
     "text": [
      "/home/monty/.local/lib/python3.8/site-packages/spacy/util.py:877: UserWarning: [W095] Model 'en_core_web_lg' (3.4.0) was trained with spaCy v3.4 and may not be 100% compatible with the current version (3.5.0). If you see errors or degraded performance, download a newer compatible model or retrain your custom model with the current spaCy version. For more details and available updates, run: python -m spacy validate\n",
      "  warnings.warn(warn_msg)\n"
     ]
    }
   ],
   "source": [
    "from os import listdir\n",
    "from os.path import isfile, join\n",
    "import json\n",
    "import textstat\n",
    "from unidecode import unidecode\n",
    "import pandas as pd\n",
    "import nltk\n",
    "from matplotlib import pyplot as plt\n",
    "\n",
    "from PassivePySrc import PassivePy\n",
    "\n",
    "passivepy = PassivePy.PassivePyAnalyzer(spacy_model = \"en_core_web_lg\")"
   ]
  },
  {
   "cell_type": "code",
   "execution_count": 2,
   "metadata": {},
   "outputs": [],
   "source": [
    "onlyfiles = [f for f in listdir(\"/home/monty/RyersonGraduateStudies/CP8207/Final Project/fire-and-blood-story-generation/data/processed-data/context-data\") if isfile(join(\"/home/monty/RyersonGraduateStudies/CP8207/Final Project/fire-and-blood-story-generation/data/processed-data/context-data\", f))]"
   ]
  },
  {
   "cell_type": "code",
   "execution_count": 70,
   "metadata": {},
   "outputs": [],
   "source": [
    "characters = pd.read_csv(\"/home/monty/RyersonGraduateStudies/CP8207/Final Project/fire-and-blood-story-generation/data/processed-data/fabNames.csv\")"
   ]
  },
  {
   "cell_type": "code",
   "execution_count": 121,
   "metadata": {},
   "outputs": [],
   "source": [
    "named_characters = list(characters.loc[characters[\"NUN\"]==\"Named\"][\"FullName\"].apply(lambda x:x.split(\"/\")[0]).values)\n",
    "unnamed_characters = list(characters.loc[characters[\"NUN\"]==\"US\"][\"FullName\"].apply(lambda x:x.split(\"/\")[0]).values)"
   ]
  },
  {
   "cell_type": "code",
   "execution_count": 142,
   "metadata": {},
   "outputs": [],
   "source": [
    "for x in unnamed_characters:\n",
    "    if \"bard\" in x:\n",
    "        print(x)"
   ]
  },
  {
   "cell_type": "code",
   "execution_count": 137,
   "metadata": {},
   "outputs": [],
   "source": [
    "def character_accuracy(path):\n",
    "    entity_correctness = {\"tp\":0.0, \"fp\":0.0, \"fn\":0.0}\n",
    "    unnamed_tp = 0\n",
    "    character_list = []\n",
    "    for json_file in onlyfiles:\n",
    "        with open(f\"{path}/{json_file}\", 'r') as f:\n",
    "            data = json.load(f)\n",
    "            data = data[json_file.split(\".\")[0]]\n",
    "            for paragraph in data:\n",
    "                decoded_text = unidecode(paragraph[\"paragraph\"])\n",
    "                for character in paragraph[\"characters\"]:\n",
    "                    if (character in named_characters) and character in decoded_text:\n",
    "                        entity_correctness[\"tp\"] += 1\n",
    "                    if character in unnamed_characters:\n",
    "                        unnamed_tp += 1\n",
    "                    character_list.append(character)\n",
    "                for true_character in named_characters:  \n",
    "                    if true_character in decoded_text and true_character not in paragraph[\"characters\"]:\n",
    "                        entity_correctness[\"fn\"] += 1\n",
    "    non_named_characters = [character for character in list(set(character_list)) if character not in named_characters]\n",
    "    print(len(non_named_characters))\n",
    "\n",
    "        \n",
    "    print(entity_correctness['tp'])\n",
    "    print(entity_correctness['fp'])\n",
    "    \n",
    "    print(f\"Named Character Recall: {entity_correctness['tp']/len(named_characters)}\")\n",
    "    print(f\"Unnamed Character Recall: {unnamed_tp/len(unnamed_characters)}\")\n",
    "    print(f\"Named Character False Negatives: {entity_correctness['fn']}\")"
   ]
  },
  {
   "cell_type": "code",
   "execution_count": 138,
   "metadata": {},
   "outputs": [
    {
     "name": "stdout",
     "output_type": "stream",
     "text": [
      "2074\n",
      "250.0\n",
      "0.0\n",
      "Named Character Recall: 0.9398496240601504\n",
      "Unnamed Character Recall: 0.0\n",
      "Named Character False Negatives: 15.0\n"
     ]
    }
   ],
   "source": [
    "character_accuracy(\"/home/monty/RyersonGraduateStudies/CP8207/Final Project/fire-and-blood-story-generation/data/processed-data/context-data\")"
   ]
  },
  {
   "cell_type": "code",
   "execution_count": 104,
   "metadata": {},
   "outputs": [],
   "source": [
    "def POS_accuracy(path):\n",
    "    pos_correctness = {\"verb\":0.0, \"adj\":0.0, \"location\"}\n",
    "    total_verbs = 0\n",
    "    total_adjs = 0\n",
    "\n",
    "    adj_lens = []\n",
    "    verb_lens = []\n",
    "    for json_file in onlyfiles:\n",
    "        with open(f\"{path}/{json_file}\", 'r') as f:\n",
    "            data = json.load(f)\n",
    "            data = data[json_file.split(\".\")[0]]\n",
    "            for paragraph in data:\n",
    "                decoded_text = unidecode(paragraph[\"paragraph\"])\n",
    "                tokenized_text = nltk.word_tokenize(decoded_text)\n",
    "                pos_tagged = nltk.pos_tag(tokenized_text)\n",
    "                verbs = filter(lambda x:(x[1]=='VB' or x[1]=='VBD' or x[1]=='VBN' or x[1]=='VBP' or x[1]=='VBZ'),pos_tagged)\n",
    "                verbs = [verb[0] for verb in tuple(verbs)]\n",
    "                adjectives = filter(lambda x:(x[1]=='JJ' or x[1]=='JJR' or x[1]=='JJS'),pos_tagged)\n",
    "                adjectives = [adjec[0] for adjec in tuple(adjectives)]\n",
    "                total_verbs += len(set(verbs))\n",
    "                total_adjs += len(set(adjectives))\n",
    "                for verb in paragraph[\"verbs\"]:\n",
    "                    verb_lens.append(len(verb.split()))\n",
    "                    if verb in verbs:\n",
    "                        pos_correctness[\"verb\"] += 1\n",
    "                for adj in paragraph[\"adjectives\"]:\n",
    "                    adj_lens.append(len(adj.split()))\n",
    "                    if adj in adjectives:\n",
    "                        pos_correctness[\"adj\"] += 1\n",
    "        \n",
    "    print(f\"Verb Accuracy: {pos_correctness['verb']/total_verbs}\")\n",
    "    print(f\"Adjective Accuracy: {pos_correctness['adj']/total_adjs}\")  \n",
    "    print(f\"Verb Length Mean: {sum(verb_lens)/len(verb_lens)}\")  \n",
    "    print(f\"Verb Length Max: {max(verb_lens)}\") \n",
    "    print(f\"Verb Length Min: {min(verb_lens)}\")     \n",
    "    print(f\"Adj Length Mean: {sum(adj_lens)/len(adj_lens)}\")  \n",
    "    print(f\"Adj Length Max: {max(adj_lens)}\") \n",
    "    print(f\"Adj Length Min: {min(adj_lens)}\")     "
   ]
  },
  {
   "cell_type": "code",
   "execution_count": 105,
   "metadata": {},
   "outputs": [
    {
     "name": "stdout",
     "output_type": "stream",
     "text": [
      "Verb Accuracy: 0.2205746061167748\n",
      "Adjective Accuracy: 0.2285982264665757\n",
      "Verb Length Mean: 1.6624663332050789\n",
      "Verb Length Max: 47\n",
      "Verb Length Min: 1\n",
      "Adj Length Mean: 1.4362184721466158\n",
      "Adj Length Max: 66\n",
      "Adj Length Min: 1\n"
     ]
    }
   ],
   "source": [
    "POS_accuracy(\"/home/monty/RyersonGraduateStudies/CP8207/Final Project/fire-and-blood-story-generation/data/processed-data/context-data\")"
   ]
  },
  {
   "cell_type": "code",
   "execution_count": null,
   "metadata": {},
   "outputs": [],
   "source": [
    "def passivity(path):\n",
    "    passive_counts = []\n",
    "    for json_file in onlyfiles:\n",
    "        with open(f\"{path}/{json_file}\", 'r') as f:\n",
    "            data = json.load(f)\n",
    "            data = data[json_file.split(\".\")[0]]\n",
    "            for paragraph in data:\n",
    "                decoded_text = unidecode(paragraph[\"paragraph\"])\n"
   ]
  }
 ],
 "metadata": {
  "kernelspec": {
   "display_name": "story-gen",
   "language": "python",
   "name": "python3"
  },
  "language_info": {
   "codemirror_mode": {
    "name": "ipython",
    "version": 3
   },
   "file_extension": ".py",
   "mimetype": "text/x-python",
   "name": "python",
   "nbconvert_exporter": "python",
   "pygments_lexer": "ipython3",
   "version": "3.8.10"
  },
  "orig_nbformat": 4
 },
 "nbformat": 4,
 "nbformat_minor": 2
}
